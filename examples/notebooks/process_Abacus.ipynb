{
 "cells": [
  {
   "cell_type": "code",
   "execution_count": 5,
   "id": "1e536be6-ecd0-46df-aaff-fe4b6f7917f8",
   "metadata": {
    "scrolled": true
   },
   "outputs": [],
   "source": [
    "import sys\n",
    "import os\n",
    "sys.path.append(os.path.abspath(\"../../python\"))\n",
    "from galpop import process_Abacus as pa\n",
    "from galpop import file_io"
   ]
  },
  {
   "cell_type": "code",
   "execution_count": 2,
   "id": "91c3cbcf-576b-4713-8790-44ac374c80aa",
   "metadata": {},
   "outputs": [
    {
     "name": "stdout",
     "output_type": "stream",
     "text": [
      "Processing slab 1/34: /global/cfs/cdirs/desi/cosmosim/Abacus/AbacusSummit_base_c000_ph000/halos/z0.800/halo_info/halo_info_016.asdf\n",
      "Processing slab 2/34: /global/cfs/cdirs/desi/cosmosim/Abacus/AbacusSummit_base_c000_ph000/halos/z0.800/halo_info/halo_info_027.asdf\n",
      "Processing slab 3/34: /global/cfs/cdirs/desi/cosmosim/Abacus/AbacusSummit_base_c000_ph000/halos/z0.800/halo_info/halo_info_023.asdf\n",
      "Processing slab 4/34: /global/cfs/cdirs/desi/cosmosim/Abacus/AbacusSummit_base_c000_ph000/halos/z0.800/halo_info/halo_info_019.asdf\n",
      "Processing slab 5/34: /global/cfs/cdirs/desi/cosmosim/Abacus/AbacusSummit_base_c000_ph000/halos/z0.800/halo_info/halo_info_031.asdf\n",
      "Processing slab 6/34: /global/cfs/cdirs/desi/cosmosim/Abacus/AbacusSummit_base_c000_ph000/halos/z0.800/halo_info/halo_info_021.asdf\n",
      "Processing slab 7/34: /global/cfs/cdirs/desi/cosmosim/Abacus/AbacusSummit_base_c000_ph000/halos/z0.800/halo_info/halo_info_004.asdf\n",
      "Processing slab 8/34: /global/cfs/cdirs/desi/cosmosim/Abacus/AbacusSummit_base_c000_ph000/halos/z0.800/halo_info/halo_info_024.asdf\n",
      "Processing slab 9/34: /global/cfs/cdirs/desi/cosmosim/Abacus/AbacusSummit_base_c000_ph000/halos/z0.800/halo_info/halo_info_011.asdf\n",
      "Processing slab 10/34: /global/cfs/cdirs/desi/cosmosim/Abacus/AbacusSummit_base_c000_ph000/halos/z0.800/halo_info/halo_info_015.asdf\n",
      "Processing slab 11/34: /global/cfs/cdirs/desi/cosmosim/Abacus/AbacusSummit_base_c000_ph000/halos/z0.800/halo_info/halo_info_009.asdf\n",
      "Processing slab 12/34: /global/cfs/cdirs/desi/cosmosim/Abacus/AbacusSummit_base_c000_ph000/halos/z0.800/halo_info/halo_info_029.asdf\n",
      "Processing slab 13/34: /global/cfs/cdirs/desi/cosmosim/Abacus/AbacusSummit_base_c000_ph000/halos/z0.800/halo_info/halo_info_000.asdf\n",
      "Processing slab 14/34: /global/cfs/cdirs/desi/cosmosim/Abacus/AbacusSummit_base_c000_ph000/halos/z0.800/halo_info/halo_info_001.asdf\n",
      "Processing slab 15/34: /global/cfs/cdirs/desi/cosmosim/Abacus/AbacusSummit_base_c000_ph000/halos/z0.800/halo_info/halo_info_033.asdf\n",
      "Processing slab 16/34: /global/cfs/cdirs/desi/cosmosim/Abacus/AbacusSummit_base_c000_ph000/halos/z0.800/halo_info/halo_info_014.asdf\n",
      "Processing slab 17/34: /global/cfs/cdirs/desi/cosmosim/Abacus/AbacusSummit_base_c000_ph000/halos/z0.800/halo_info/halo_info_010.asdf\n",
      "Processing slab 18/34: /global/cfs/cdirs/desi/cosmosim/Abacus/AbacusSummit_base_c000_ph000/halos/z0.800/halo_info/halo_info_022.asdf\n",
      "Processing slab 19/34: /global/cfs/cdirs/desi/cosmosim/Abacus/AbacusSummit_base_c000_ph000/halos/z0.800/halo_info/halo_info_026.asdf\n",
      "Processing slab 20/34: /global/cfs/cdirs/desi/cosmosim/Abacus/AbacusSummit_base_c000_ph000/halos/z0.800/halo_info/halo_info_013.asdf\n",
      "Processing slab 21/34: /global/cfs/cdirs/desi/cosmosim/Abacus/AbacusSummit_base_c000_ph000/halos/z0.800/halo_info/halo_info_020.asdf\n",
      "Processing slab 22/34: /global/cfs/cdirs/desi/cosmosim/Abacus/AbacusSummit_base_c000_ph000/halos/z0.800/halo_info/halo_info_006.asdf\n",
      "Processing slab 23/34: /global/cfs/cdirs/desi/cosmosim/Abacus/AbacusSummit_base_c000_ph000/halos/z0.800/halo_info/halo_info_005.asdf\n",
      "Processing slab 24/34: /global/cfs/cdirs/desi/cosmosim/Abacus/AbacusSummit_base_c000_ph000/halos/z0.800/halo_info/halo_info_017.asdf\n",
      "Processing slab 25/34: /global/cfs/cdirs/desi/cosmosim/Abacus/AbacusSummit_base_c000_ph000/halos/z0.800/halo_info/halo_info_025.asdf\n",
      "Processing slab 26/34: /global/cfs/cdirs/desi/cosmosim/Abacus/AbacusSummit_base_c000_ph000/halos/z0.800/halo_info/halo_info_012.asdf\n",
      "Processing slab 27/34: /global/cfs/cdirs/desi/cosmosim/Abacus/AbacusSummit_base_c000_ph000/halos/z0.800/halo_info/halo_info_028.asdf\n",
      "Processing slab 28/34: /global/cfs/cdirs/desi/cosmosim/Abacus/AbacusSummit_base_c000_ph000/halos/z0.800/halo_info/halo_info_018.asdf\n",
      "Processing slab 29/34: /global/cfs/cdirs/desi/cosmosim/Abacus/AbacusSummit_base_c000_ph000/halos/z0.800/halo_info/halo_info_008.asdf\n",
      "Processing slab 30/34: /global/cfs/cdirs/desi/cosmosim/Abacus/AbacusSummit_base_c000_ph000/halos/z0.800/halo_info/halo_info_007.asdf\n",
      "Processing slab 31/34: /global/cfs/cdirs/desi/cosmosim/Abacus/AbacusSummit_base_c000_ph000/halos/z0.800/halo_info/halo_info_032.asdf\n",
      "Processing slab 32/34: /global/cfs/cdirs/desi/cosmosim/Abacus/AbacusSummit_base_c000_ph000/halos/z0.800/halo_info/halo_info_002.asdf\n",
      "Processing slab 33/34: /global/cfs/cdirs/desi/cosmosim/Abacus/AbacusSummit_base_c000_ph000/halos/z0.800/halo_info/halo_info_003.asdf\n",
      "Processing slab 34/34: /global/cfs/cdirs/desi/cosmosim/Abacus/AbacusSummit_base_c000_ph000/halos/z0.800/halo_info/halo_info_030.asdf\n"
     ]
    }
   ],
   "source": [
    "ad = pa.process_Abacus_directory(\"/global/cfs/cdirs/desi/cosmosim/Abacus/AbacusSummit_base_c000_ph000/halos/z0.800/halo_info/\", 12, 13, 30)"
   ]
  },
  {
   "cell_type": "code",
   "execution_count": 3,
   "id": "418fc694-57a6-4c97-a624-7519b2c5272f",
   "metadata": {},
   "outputs": [
    {
     "data": {
      "text/plain": [
       "{'halo': {'mass': array([1.31817595e+12, 1.04399535e+12, 1.28864881e+12, ...,\n",
       "         1.17475841e+12, 1.09461331e+12, 1.43628452e+12]),\n",
       "  'x': array([-58.215923, -58.121483, -58.721237, ..., 821.87897 , 821.8753  ,\n",
       "         822.2947  ], dtype=float32),\n",
       "  'y': array([-998.9423 , -998.7287 , -999.24445, ...,  998.75696,  999.20544,\n",
       "          999.6043 ], dtype=float32),\n",
       "  'z': array([-886.05475, -647.4479 , -532.50055, ...,  960.99786, -467.2981 ,\n",
       "          976.5469 ], dtype=float32),\n",
       "  'sigma': array([4.3855884e-08, 4.1523730e-08, 4.2429065e-08, ..., 4.3369241e-08,\n",
       "         4.1007588e-08, 4.3710539e-08], dtype=float32),\n",
       "  'velocity': array([-9.8948055e-07,  1.4899036e-06, -1.3528836e-07, ...,\n",
       "         -7.5728281e-07,  1.1567041e-06, -8.3931462e-07], dtype=float32)},\n",
       " 'subsample': {'mass': array([1.47825524e+13, 1.47825524e+13, 1.47825524e+13, ...,\n",
       "         1.26671436e+13, 1.26671436e+13, 1.26671436e+13]),\n",
       "  'host_velocity': array([1.0377245e-06, 1.0377245e-06, 1.0377245e-06, ..., 6.3494997e-07,\n",
       "         6.3494997e-07, 6.3494997e-07], dtype=float32),\n",
       "  'n_particles': array([30, 30, 30, ..., 30, 30, 30], dtype=uint32),\n",
       "  'x': array([-58.296, -58.318, -58.27 , ..., 822.96 , 822.93 , 822.922],\n",
       "        dtype=float32),\n",
       "  'y': array([999.708, 999.566, 999.7  , ..., 994.64 , 994.628, 994.62 ],\n",
       "        dtype=float32),\n",
       "  'z': array([-102.364, -102.312, -102.414, ...,  372.082,  372.04 ,  371.964],\n",
       "        dtype=float32),\n",
       "  'velocity': array([ 1.5603872e-06,  2.3986802e-06,  1.2532897e-06, ...,\n",
       "          5.7269528e-07, -7.4699386e-08,  8.1339329e-07], dtype=float32)}}"
      ]
     },
     "execution_count": 3,
     "metadata": {},
     "output_type": "execute_result"
    }
   ],
   "source": [
    "ad"
   ]
  },
  {
   "cell_type": "code",
   "execution_count": 7,
   "id": "d4496df1-200d-40f4-8a09-baae38140800",
   "metadata": {},
   "outputs": [],
   "source": [
    "file_io.save_to_hdf5(ad, \"/pscratch/sd/l/lado/GalPop/test.fits\")"
   ]
  },
  {
   "cell_type": "code",
   "execution_count": 10,
   "id": "a05bdf3e-efad-4c4a-bccd-bb7debd7a570",
   "metadata": {},
   "outputs": [],
   "source": [
    "ad = file_io.load_from_hdf5(\"/pscratch/sd/l/lado/GalPop/test.fits\")"
   ]
  }
 ],
 "metadata": {
  "kernelspec": {
   "display_name": "cosmodesi-main",
   "language": "python",
   "name": "cosmodesi-main"
  },
  "language_info": {
   "codemirror_mode": {
    "name": "ipython",
    "version": 3
   },
   "file_extension": ".py",
   "mimetype": "text/x-python",
   "name": "python",
   "nbconvert_exporter": "python",
   "pygments_lexer": "ipython3",
   "version": "3.10.13"
  }
 },
 "nbformat": 4,
 "nbformat_minor": 5
}
