{
 "cells": [
  {
   "cell_type": "code",
   "execution_count": 1,
   "id": "9d2a6444-53f2-474e-9013-a2ef003ebe63",
   "metadata": {},
   "outputs": [],
   "source": [
    "import sys\n",
    "import os\n",
    "import julia\n",
    "jl = julia.Julia(compiled_modules=False, runtime=\"/global/common/software/nersc/n9/julia/1.10.4/bin/julia\")\n",
    "# Now you can execute Julia code\n",
    "#jl.eval('println(\"Hello from Julia!\")')"
   ]
  },
  {
   "cell_type": "code",
   "execution_count": 2,
   "id": "5092c2a0-6bd4-4493-8ef4-72d8a99e6013",
   "metadata": {},
   "outputs": [],
   "source": [
    "sys.path.insert(0, os.path.abspath(\"../../python\"))\n",
    "from galpop import process_Abacus as pa\n",
    "from galpop import file_io\n",
    "from galpop import hod"
   ]
  },
  {
   "cell_type": "code",
   "execution_count": 3,
   "id": "a0cf78b9-8d84-430a-9bec-140ac17e8064",
   "metadata": {},
   "outputs": [],
   "source": [
    "ad = file_io.load_from_hdf5(\"/pscratch/sd/l/lado/GalPop/test.fits\")"
   ]
  },
  {
   "cell_type": "code",
   "execution_count": 4,
   "id": "054bf6c9-4f93-4ca2-aea7-f24e6b6724cd",
   "metadata": {},
   "outputs": [
    {
     "name": "stderr",
     "output_type": "stream",
     "text": [
      "  Activating project at `/global/u1/l/lado/GalPop/julia`\n"
     ]
    },
    {
     "data": {
      "text/plain": [
       "{'x': array([-58.26978302, -58.08532715, -58.27721405, ..., 821.98400879,\n",
       "        822.15600586, 822.36602783]),\n",
       " 'y': array([ 999.4050293 , -998.28826904,  999.9654541 , ...,  964.87200928,\n",
       "         964.61999512,  988.02197266]),\n",
       " 'z': array([-101.97296143,  -19.71212196,  685.4362793 , ...,  -82.01799774,\n",
       "         145.89199829, -462.78399658]),\n",
       " 'count': 8735671}"
      ]
     },
     "execution_count": 4,
     "metadata": {},
     "output_type": "execute_result"
    }
   ],
   "source": [
    "HODparams = {\"lnMcut\": 13.0, \"sigma\": 1, \"lnM1\": 13.5, \"kappa\": 1, \"alpha\": 1, \"alpha_c\": 0, \"alpha_s\": 1, \"rsd\": True, \"Lmin\": -1000.0, \"Lmax\": 1000.0}\n",
    "hod.populate_galaxies(ad[\"halo\"], ad[\"subsample\"], HODparams, julia_path=\"/global/u1/l/lado/GalPop/julia/\")"
   ]
  },
  {
   "cell_type": "code",
   "execution_count": 6,
   "id": "91d69035-c7b4-4a0c-bc69-80d2e84bab10",
   "metadata": {},
   "outputs": [
    {
     "data": {
      "text/plain": [
       "{'x': array([-58.26978302, -58.08532715, -57.73989868, ..., 823.36401367,\n",
       "        823.15997314, 822.41400146]),\n",
       " 'y': array([ 999.4050293 , -998.28826904, -993.8348999 , ...,  973.67797852,\n",
       "         973.5880127 ,  974.95397949]),\n",
       " 'z': array([-101.97296143,  -19.71212196, -521.4609375 , ...,   13.40799999,\n",
       "          13.68999863,  468.01599121]),\n",
       " 'count': 2938056}"
      ]
     },
     "execution_count": 6,
     "metadata": {},
     "output_type": "execute_result"
    }
   ],
   "source": [
    "HODparams[\"sigma\"] = 0.1\n",
    "hod.populate_galaxies(ad[\"halo\"], ad[\"subsample\"], HODparams, julia_path=\"/global/u1/l/lado/GalPop/julia/\")"
   ]
  }
 ],
 "metadata": {
  "kernelspec": {
   "display_name": "cosmodesi-main",
   "language": "python",
   "name": "cosmodesi-main"
  },
  "language_info": {
   "codemirror_mode": {
    "name": "ipython",
    "version": 3
   },
   "file_extension": ".py",
   "mimetype": "text/x-python",
   "name": "python",
   "nbconvert_exporter": "python",
   "pygments_lexer": "ipython3",
   "version": "3.10.13"
  }
 },
 "nbformat": 4,
 "nbformat_minor": 5
}
