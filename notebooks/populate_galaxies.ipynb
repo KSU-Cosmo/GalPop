{
 "cells": [
  {
   "cell_type": "code",
   "execution_count": 1,
   "id": "9d2a6444-53f2-474e-9013-a2ef003ebe63",
   "metadata": {},
   "outputs": [],
   "source": [
    "import sys\n",
    "import os\n",
    "import numpy as np\n",
    "import matplotlib.pyplot as plt"
   ]
  },
  {
   "cell_type": "code",
   "execution_count": 2,
   "id": "70ba0d38-2413-415e-8ef0-1b1618f681b3",
   "metadata": {},
   "outputs": [],
   "source": [
    "src_path = os.path.abspath(os.path.join(os.getcwd(), \"..\", \"src\"))\n",
    "sys.path.append(src_path)"
   ]
  },
  {
   "cell_type": "code",
   "execution_count": 3,
   "id": "c41212c0-9516-4a0a-b873-c107cbe24de0",
   "metadata": {},
   "outputs": [],
   "source": [
    "import populate_galaxies as pg\n",
    "import process_Abacus as pa\n",
    "import file_io"
   ]
  },
  {
   "cell_type": "code",
   "execution_count": 4,
   "id": "c6b793c9",
   "metadata": {},
   "outputs": [
    {
     "name": "stderr",
     "output_type": "stream",
     "text": [
      "WARNING: import of MainInclude.eval into Main conflicts with an existing identifier; ignored.\n",
      "WARNING: could not import MainInclude.include into Main\n",
      "WARNING: import of MainInclude.eval into Main conflicts with an existing identifier; ignored.\n",
      "WARNING: could not import MainInclude.include into Main\n"
     ]
    }
   ],
   "source": [
    "import populate_galaxies_wrapper as pgw"
   ]
  },
  {
   "cell_type": "code",
   "execution_count": 5,
   "id": "bfd1fa8d-850a-46ce-9f93-72618b69043e",
   "metadata": {},
   "outputs": [
    {
     "name": "stdout",
     "output_type": "stream",
     "text": [
      "Number of halos: 29129524\n",
      "Number of subsamples: 49568375\n"
     ]
    }
   ],
   "source": [
    "h, s = file_io.read_results_fits(\"../data/test25.fits\")"
   ]
  },
  {
   "cell_type": "code",
   "execution_count": 6,
   "id": "4362be6a",
   "metadata": {},
   "outputs": [],
   "source": [
    "h_mass, h_x, h_y, h_z, h_velocity, h_sigma, s_mass, s_host_velocity, s_n_particles, s_x, s_y, s_z, s_velocity = file_io.extract_arrays(h, s)"
   ]
  },
  {
   "cell_type": "code",
   "execution_count": 14,
   "id": "2ed88a5f",
   "metadata": {},
   "outputs": [],
   "source": [
    "HODparams = [13.0, 1, 13.5, 1, 1, 0, 1]"
   ]
  },
  {
   "cell_type": "code",
   "execution_count": 8,
   "id": "d4ecb344-475a-4731-8613-191608409397",
   "metadata": {},
   "outputs": [],
   "source": [
    "coordinates = pg.populate_galaxies(h, s, HODparams)"
   ]
  },
  {
   "cell_type": "code",
   "execution_count": 15,
   "id": "953a5014",
   "metadata": {},
   "outputs": [
    {
     "name": "stdout",
     "output_type": "stream",
     "text": [
      "passing arrays\n",
      "h_mass: type=<class 'numpy.ndarray'>, dtype=float32, shape=(29129524,)\n",
      "h_x: type=<class 'numpy.ndarray'>, dtype=float32, shape=(29129524,)\n",
      "h_y: type=<class 'numpy.ndarray'>, dtype=float32, shape=(29129524,)\n",
      "h_z: type=<class 'numpy.ndarray'>, dtype=float32, shape=(29129524,)\n",
      "h_velocity: type=<class 'numpy.ndarray'>, dtype=float32, shape=(29129524,)\n",
      "h_sigma: type=<class 'numpy.ndarray'>, dtype=float32, shape=(29129524,)\n",
      "s_mass: type=<class 'numpy.ndarray'>, dtype=float32, shape=(49568375,)\n",
      "s_host_velocity: type=<class 'numpy.ndarray'>, dtype=float32, shape=(49568375,)\n",
      "s_n_particles: type=<class 'numpy.ndarray'>, dtype=int32, shape=(49568375,)\n",
      "s_x: type=<class 'numpy.ndarray'>, dtype=float32, shape=(49568375,)\n",
      "s_y: type=<class 'numpy.ndarray'>, dtype=float32, shape=(49568375,)\n",
      "s_z: type=<class 'numpy.ndarray'>, dtype=float32, shape=(49568375,)\n",
      "s_velocity: type=<class 'numpy.ndarray'>, dtype=float32, shape=(49568375,)\n",
      "unpacking HOD parameters\n",
      "call the Julia function\n",
      "convert the arrays back to python\n"
     ]
    }
   ],
   "source": [
    "coordinates = pgw.populate_galaxies(h_mass, h_x, h_y, h_z, h_velocity, h_sigma, s_mass, s_host_velocity, s_n_particles, s_x, s_y, s_z, s_velocity, HODparams)"
   ]
  },
  {
   "cell_type": "code",
   "execution_count": 16,
   "id": "523be4ad",
   "metadata": {},
   "outputs": [
    {
     "data": {
      "text/plain": [
       "{'x': array([-58.26978302, -59.0567627 , -58.54405212, ..., 825.72802734,\n",
       "        823.59197998, 822.24401855]),\n",
       " 'y': array([ 999.4050293 , -998.88104248, -998.4977417 , ...,  969.39801025,\n",
       "         969.42999268,  988.19799805]),\n",
       " 'z': array([ -97.82206726,  164.34414673, -912.19921875, ..., -180.20396423,\n",
       "        -179.57516479, -459.28323364])}"
      ]
     },
     "execution_count": 16,
     "metadata": {},
     "output_type": "execute_result"
    }
   ],
   "source": [
    "coordinates"
   ]
  },
  {
   "cell_type": "code",
   "execution_count": 17,
   "id": "9da173ec",
   "metadata": {},
   "outputs": [
    {
     "data": {
      "text/plain": [
       "8736355"
      ]
     },
     "execution_count": 17,
     "metadata": {},
     "output_type": "execute_result"
    }
   ],
   "source": [
    "np.size(coordinates['x'])"
   ]
  }
 ],
 "metadata": {
  "kernelspec": {
   "display_name": ".venv",
   "language": "python",
   "name": "python3"
  },
  "language_info": {
   "codemirror_mode": {
    "name": "ipython",
    "version": 3
   },
   "file_extension": ".py",
   "mimetype": "text/x-python",
   "name": "python",
   "nbconvert_exporter": "python",
   "pygments_lexer": "ipython3",
   "version": "3.10.12"
  }
 },
 "nbformat": 4,
 "nbformat_minor": 5
}
