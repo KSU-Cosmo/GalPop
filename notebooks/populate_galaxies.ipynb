{
 "cells": [
  {
   "cell_type": "code",
   "execution_count": 1,
   "id": "9d2a6444-53f2-474e-9013-a2ef003ebe63",
   "metadata": {},
   "outputs": [],
   "source": [
    "import sys\n",
    "import os\n",
    "import numpy as np\n",
    "import matplotlib.pyplot as plt"
   ]
  },
  {
   "cell_type": "code",
   "execution_count": 2,
   "id": "70ba0d38-2413-415e-8ef0-1b1618f681b3",
   "metadata": {},
   "outputs": [],
   "source": [
    "src_path = os.path.abspath(os.path.join(os.getcwd(), \"..\", \"src\"))\n",
    "sys.path.append(src_path)"
   ]
  },
  {
   "cell_type": "code",
   "execution_count": 3,
   "id": "c41212c0-9516-4a0a-b873-c107cbe24de0",
   "metadata": {},
   "outputs": [],
   "source": [
    "import populate_galaxies as pg\n",
    "import process_Abacus as pa\n",
    "import file_io"
   ]
  },
  {
   "cell_type": "code",
   "execution_count": 4,
   "id": "bfd1fa8d-850a-46ce-9f93-72618b69043e",
   "metadata": {},
   "outputs": [
    {
     "name": "stdout",
     "output_type": "stream",
     "text": [
      "Number of halos: 29129524\n",
      "Number of subsamples: 49568375\n"
     ]
    }
   ],
   "source": [
    "h, s = file_io.read_results_fits(\"../data/test25.fits\")"
   ]
  },
  {
   "cell_type": "code",
   "execution_count": 13,
   "id": "d4ecb344-475a-4731-8613-191608409397",
   "metadata": {},
   "outputs": [],
   "source": [
    "coordinates = pg.populate_galaxies(h, s, [13, 1, 14, 1, 1, 0, 1])"
   ]
  },
  {
   "cell_type": "code",
   "execution_count": 6,
   "id": "7eff8fee-c28b-41b6-8aa2-6ab80cfc5ae9",
   "metadata": {},
   "outputs": [
    {
     "data": {
      "text/plain": [
       "array([-58.21592331, -58.26978302, -58.08532715, ..., 822.31201172,\n",
       "       822.11401367, 823.55401611])"
      ]
     },
     "execution_count": 6,
     "metadata": {},
     "output_type": "execute_result"
    }
   ],
   "source": [
    "coordinates['x']"
   ]
  },
  {
   "cell_type": "code",
   "execution_count": 7,
   "id": "a5af86ba-d226-4a87-9b75-590dd12fc50f",
   "metadata": {},
   "outputs": [
    {
     "data": {
      "text/plain": [
       "array([-998.94232178,  999.4050293 , -998.28826904, ...,  958.5300293 ,\n",
       "        958.40600586,  969.77398682])"
      ]
     },
     "execution_count": 7,
     "metadata": {},
     "output_type": "execute_result"
    }
   ],
   "source": [
    "coordinates['y']"
   ]
  },
  {
   "cell_type": "code",
   "execution_count": 8,
   "id": "3985b81f-f294-4125-94ab-0e6ad375ffa3",
   "metadata": {},
   "outputs": [
    {
     "data": {
      "text/plain": [
       "array([-890.01267099,  -97.82206345,  -23.15854239, ...,  429.84560138,\n",
       "        430.96438581, -176.6196    ])"
      ]
     },
     "execution_count": 8,
     "metadata": {},
     "output_type": "execute_result"
    }
   ],
   "source": [
    "coordinates['z']"
   ]
  },
  {
   "cell_type": "code",
   "execution_count": 9,
   "id": "d1f1a71e-ad08-446a-b683-176f74a34e11",
   "metadata": {},
   "outputs": [
    {
     "data": {
      "text/plain": [
       "(array([827559., 831013., 837256., 828552., 845437., 824861., 822402.,\n",
       "        831422., 827587., 818433.]),\n",
       " array([-9.99999923e+02, -7.99999963e+02, -6.00000002e+02, -4.00000041e+02,\n",
       "        -2.00000081e+02, -1.19917095e-04,  1.99999841e+02,  3.99999802e+02,\n",
       "         5.99999762e+02,  7.99999723e+02,  9.99999684e+02]),\n",
       " <BarContainer object of 10 artists>)"
      ]
     },
     "execution_count": 9,
     "metadata": {},
     "output_type": "execute_result"
    },
    {
     "data": {
      "image/png": "[encoded data removed]",
      "text/plain": [
       "<Figure size 640x480 with 1 Axes>"
      ]
     },
     "metadata": {},
     "output_type": "display_data"
    }
   ],
   "source": [
    "plt.hist(coordinates['z'])"
   ]
  },
  {
   "cell_type": "code",
   "execution_count": 10,
   "id": "c6b793c9",
   "metadata": {},
   "outputs": [
    {
     "name": "stderr",
     "output_type": "stream",
     "text": [
      "WARNING: import of MainInclude.eval into Main conflicts with an existing identifier; ignored.\n",
      "WARNING: could not import MainInclude.include into Main\n",
      "WARNING: import of MainInclude.eval into Main conflicts with an existing identifier; ignored.\n",
      "WARNING: could not import MainInclude.include into Main\n"
     ]
    }
   ],
   "source": [
    "import populate_galaxies_wrapper as pgw"
   ]
  },
  {
   "cell_type": "code",
   "execution_count": 14,
   "id": "953a5014",
   "metadata": {},
   "outputs": [],
   "source": [
    "coordinates = pgw.populate_galaxies(h, s, [13, 1, 14, 1, 1, 0, 1])"
   ]
  }
 ],
 "metadata": {
  "kernelspec": {
   "display_name": ".venv",
   "language": "python",
   "name": "python3"
  },
  "language_info": {
   "codemirror_mode": {
    "name": "ipython",
    "version": 3
   },
   "file_extension": ".py",
   "mimetype": "text/x-python",
   "name": "python",
   "nbconvert_exporter": "python",
   "pygments_lexer": "ipython3",
   "version": "3.10.12"
  }
 },
 "nbformat": 4,
 "nbformat_minor": 5
}
