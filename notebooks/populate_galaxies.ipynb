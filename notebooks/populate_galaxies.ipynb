{
 "cells": [
  {
   "cell_type": "code",
   "execution_count": 1,
   "id": "9d2a6444-53f2-474e-9013-a2ef003ebe63",
   "metadata": {},
   "outputs": [],
   "source": [
    "import sys\n",
    "import os\n",
    "import numpy as np\n",
    "import matplotlib.pyplot as plt"
   ]
  },
  {
   "cell_type": "code",
   "execution_count": 2,
   "id": "70ba0d38-2413-415e-8ef0-1b1618f681b3",
   "metadata": {},
   "outputs": [],
   "source": [
    "src_path = os.path.abspath(os.path.join(os.getcwd(), \"..\", \"src\"))\n",
    "sys.path.append(src_path)"
   ]
  },
  {
   "cell_type": "code",
   "execution_count": 3,
   "id": "c41212c0-9516-4a0a-b873-c107cbe24de0",
   "metadata": {},
   "outputs": [],
   "source": [
    "import populate_galaxies as pg\n",
    "import process_Abacus as pa\n",
    "import file_io"
   ]
  },
  {
   "cell_type": "code",
   "execution_count": 4,
   "id": "c6b793c9",
   "metadata": {},
   "outputs": [
    {
     "name": "stderr",
     "output_type": "stream",
     "text": [
      "WARNING: import of MainInclude.eval into Main conflicts with an existing identifier; ignored.\n",
      "WARNING: could not import MainInclude.include into Main\n",
      "WARNING: import of MainInclude.eval into Main conflicts with an existing identifier; ignored.\n",
      "WARNING: could not import MainInclude.include into Main\n"
     ]
    }
   ],
   "source": [
    "import populate_galaxies_wrapper as pgw"
   ]
  },
  {
   "cell_type": "code",
   "execution_count": 5,
   "id": "bfd1fa8d-850a-46ce-9f93-72618b69043e",
   "metadata": {},
   "outputs": [
    {
     "name": "stdout",
     "output_type": "stream",
     "text": [
      "Number of halos: 29129524\n",
      "Number of subsamples: 49568375\n"
     ]
    }
   ],
   "source": [
    "h, s = file_io.read_results_fits(\"../data/test25.fits\")"
   ]
  },
  {
   "cell_type": "code",
   "execution_count": 6,
   "id": "4362be6a",
   "metadata": {},
   "outputs": [],
   "source": [
    "h_mass, h_x, h_y, h_z, h_velocity, h_sigma, s_mass, s_host_velocity, s_n_particles, s_x, s_y, s_z, s_velocity = file_io.extract_arrays(h, s)"
   ]
  },
  {
   "cell_type": "code",
   "execution_count": 11,
   "id": "2ed88a5f",
   "metadata": {},
   "outputs": [],
   "source": [
    "HODparams = [12.5, 1, 13.5, 1, 1, 0, 1]"
   ]
  },
  {
   "cell_type": "code",
   "execution_count": 8,
   "id": "d4ecb344-475a-4731-8613-191608409397",
   "metadata": {},
   "outputs": [],
   "source": [
    "coordinates = pg.populate_galaxies(h, s, HODparams)"
   ]
  },
  {
   "cell_type": "code",
   "execution_count": 12,
   "id": "953a5014",
   "metadata": {},
   "outputs": [
    {
     "name": "stdout",
     "output_type": "stream",
     "text": [
      "passing arrays\n",
      "h_mass: type=<class 'numpy.ndarray'>, dtype=float32, shape=(29129524,)\n",
      "h_x: type=<class 'numpy.ndarray'>, dtype=float32, shape=(29129524,)\n",
      "h_y: type=<class 'numpy.ndarray'>, dtype=float32, shape=(29129524,)\n",
      "h_z: type=<class 'numpy.ndarray'>, dtype=float32, shape=(29129524,)\n",
      "h_velocity: type=<class 'numpy.ndarray'>, dtype=float32, shape=(29129524,)\n",
      "h_sigma: type=<class 'numpy.ndarray'>, dtype=float32, shape=(29129524,)\n",
      "s_mass: type=<class 'numpy.ndarray'>, dtype=float32, shape=(49568375,)\n",
      "s_host_velocity: type=<class 'numpy.ndarray'>, dtype=float32, shape=(49568375,)\n",
      "s_n_particles: type=<class 'numpy.ndarray'>, dtype=int32, shape=(49568375,)\n",
      "s_x: type=<class 'numpy.ndarray'>, dtype=float32, shape=(49568375,)\n",
      "s_y: type=<class 'numpy.ndarray'>, dtype=float32, shape=(49568375,)\n",
      "s_z: type=<class 'numpy.ndarray'>, dtype=float32, shape=(49568375,)\n",
      "s_velocity: type=<class 'numpy.ndarray'>, dtype=float32, shape=(49568375,)\n",
      "unpacking HOD parameters\n",
      "call the Julia function\n",
      "convert the arrays back to python\n"
     ]
    }
   ],
   "source": [
    "coordinates = pgw.populate_galaxies(h_mass, h_x, h_y, h_z, h_velocity, h_sigma, s_mass, s_host_velocity, s_n_particles, s_x, s_y, s_z, s_velocity, HODparams)"
   ]
  },
  {
   "cell_type": "code",
   "execution_count": 13,
   "id": "523be4ad",
   "metadata": {},
   "outputs": [
    {
     "data": {
      "text/plain": [
       "{'x': array([-58.08532715, -58.4189949 , -58.67073822, ..., 822.42401123,\n",
       "        822.29199219, 822.23797607]),\n",
       " 'y': array([-998.28826904, -999.74798584, -999.28045654, ...,  983.40002441,\n",
       "         988.2199707 ,  988.07000732]),\n",
       " 'z': array([ -23.15854263,  148.85209656,  457.33947754, ..., -103.13876343,\n",
       "        -458.05722046, -462.97961426])}"
      ]
     },
     "execution_count": 13,
     "metadata": {},
     "output_type": "execute_result"
    }
   ],
   "source": [
    "coordinates"
   ]
  },
  {
   "cell_type": "code",
   "execution_count": null,
   "id": "9da173ec",
   "metadata": {},
   "outputs": [],
   "source": []
  }
 ],
 "metadata": {
  "kernelspec": {
   "display_name": ".venv",
   "language": "python",
   "name": "python3"
  },
  "language_info": {
   "codemirror_mode": {
    "name": "ipython",
    "version": 3
   },
   "file_extension": ".py",
   "mimetype": "text/x-python",
   "name": "python",
   "nbconvert_exporter": "python",
   "pygments_lexer": "ipython3",
   "version": "3.10.12"
  }
 },
 "nbformat": 4,
 "nbformat_minor": 5
}
