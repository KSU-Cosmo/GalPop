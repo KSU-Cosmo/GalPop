{
 "cells": [
  {
   "cell_type": "code",
   "execution_count": 8,
   "id": "9d2a6444-53f2-474e-9013-a2ef003ebe63",
   "metadata": {},
   "outputs": [],
   "source": [
    "import sys\n",
    "import os\n",
    "import numpy as np"
   ]
  },
  {
   "cell_type": "code",
   "execution_count": 9,
   "id": "70ba0d38-2413-415e-8ef0-1b1618f681b3",
   "metadata": {},
   "outputs": [],
   "source": [
    "src_path = os.path.abspath(os.path.join(os.getcwd(), \"..\", \"src\"))\n",
    "sys.path.append(src_path)"
   ]
  },
  {
   "cell_type": "code",
   "execution_count": 10,
   "id": "c41212c0-9516-4a0a-b873-c107cbe24de0",
   "metadata": {},
   "outputs": [],
   "source": [
    "import populate_galaxies as pg\n",
    "import process_Abacus as pa"
   ]
  },
  {
   "cell_type": "code",
   "execution_count": 11,
   "id": "bfd1fa8d-850a-46ce-9f93-72618b69043e",
   "metadata": {},
   "outputs": [
    {
     "name": "stdout",
     "output_type": "stream",
     "text": [
      "Number of halos: 29129524\n",
      "Number of subsamples: 59482050\n"
     ]
    }
   ],
   "source": [
    "h, s = pa.read_results_fits(\"/pscratch/sd/l/lado/GalPop/test.fits\")"
   ]
  },
  {
   "cell_type": "code",
   "execution_count": 12,
   "id": "d4ecb344-475a-4731-8613-191608409397",
   "metadata": {},
   "outputs": [],
   "source": [
    "x, y, z = pg.populate_galaxies(h, s, [13, 1, 14, 1, 1, 0, 1])"
   ]
  }
 ],
 "metadata": {
  "kernelspec": {
   "display_name": "cosmodesi-main",
   "language": "python",
   "name": "cosmodesi-main"
  },
  "language_info": {
   "codemirror_mode": {
    "name": "ipython",
    "version": 3
   },
   "file_extension": ".py",
   "mimetype": "text/x-python",
   "name": "python",
   "nbconvert_exporter": "python",
   "pygments_lexer": "ipython3",
   "version": "3.10.13"
  }
 },
 "nbformat": 4,
 "nbformat_minor": 5
}
