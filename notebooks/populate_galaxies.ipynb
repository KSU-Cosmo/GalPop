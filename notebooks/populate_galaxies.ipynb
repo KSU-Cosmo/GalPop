{
 "cells": [
  {
   "cell_type": "code",
   "execution_count": 1,
   "id": "9d2a6444-53f2-474e-9013-a2ef003ebe63",
   "metadata": {},
   "outputs": [],
   "source": [
    "import sys\n",
    "import os\n",
    "import numpy as np\n",
    "import matplotlib.pyplot as plt"
   ]
  },
  {
   "cell_type": "code",
   "execution_count": 2,
   "id": "70ba0d38-2413-415e-8ef0-1b1618f681b3",
   "metadata": {},
   "outputs": [],
   "source": [
    "src_path = os.path.abspath(os.path.join(os.getcwd(), \"..\", \"src\"))\n",
    "sys.path.append(src_path)"
   ]
  },
  {
   "cell_type": "code",
   "execution_count": 3,
   "id": "c41212c0-9516-4a0a-b873-c107cbe24de0",
   "metadata": {},
   "outputs": [],
   "source": [
    "import populate_galaxies as pg\n",
    "import process_Abacus as pa\n",
    "import file_io"
   ]
  },
  {
   "cell_type": "code",
   "execution_count": 4,
   "id": "bfd1fa8d-850a-46ce-9f93-72618b69043e",
   "metadata": {},
   "outputs": [
    {
     "name": "stdout",
     "output_type": "stream",
     "text": [
      "Number of halos: 29129524\n",
      "Number of subsamples: 49568375\n"
     ]
    }
   ],
   "source": [
    "h, s = file_io.read_results_fits(\"../data/test25.fits\")"
   ]
  },
  {
   "cell_type": "code",
   "execution_count": 5,
   "id": "d4ecb344-475a-4731-8613-191608409397",
   "metadata": {},
   "outputs": [],
   "source": [
    "coordinates = pg.populate_galaxies(h, s, [13, 1, 14, 1, 1, 0, 1])"
   ]
  },
  {
   "cell_type": "code",
   "execution_count": 6,
   "id": "7eff8fee-c28b-41b6-8aa2-6ab80cfc5ae9",
   "metadata": {},
   "outputs": [
    {
     "data": {
      "text/plain": [
       "array([-58.26978302, -58.08532715, -58.4189949 , ..., 822.13800049,\n",
       "       822.32000732, 822.23602295])"
      ]
     },
     "execution_count": 6,
     "metadata": {},
     "output_type": "execute_result"
    }
   ],
   "source": [
    "coordinates['x']"
   ]
  },
  {
   "cell_type": "code",
   "execution_count": 7,
   "id": "a5af86ba-d226-4a87-9b75-590dd12fc50f",
   "metadata": {},
   "outputs": [
    {
     "data": {
      "text/plain": [
       "array([ 999.4050293 , -998.28826904, -999.74798584, ...,  953.95599365,\n",
       "        953.9420166 ,  955.0960083 ])"
      ]
     },
     "execution_count": 7,
     "metadata": {},
     "output_type": "execute_result"
    }
   ],
   "source": [
    "coordinates['y']"
   ]
  },
  {
   "cell_type": "code",
   "execution_count": 8,
   "id": "3985b81f-f294-4125-94ab-0e6ad375ffa3",
   "metadata": {},
   "outputs": [
    {
     "data": {
      "text/plain": [
       "array([-97.82206345, -23.15854239, 148.85209119, ..., 442.08437347,\n",
       "       424.76009655, 392.49284935])"
      ]
     },
     "execution_count": 8,
     "metadata": {},
     "output_type": "execute_result"
    }
   ],
   "source": [
    "coordinates['z']"
   ]
  },
  {
   "cell_type": "code",
   "execution_count": 9,
   "id": "d1f1a71e-ad08-446a-b683-176f74a34e11",
   "metadata": {},
   "outputs": [
    {
     "data": {
      "text/plain": [
       "(array([827109., 829689., 836808., 828185., 845206., 824357., 823162.,\n",
       "        832487., 827351., 820470.]),\n",
       " array([-9.99999703e+02, -7.99999758e+02, -5.99999813e+02, -3.99999867e+02,\n",
       "        -1.99999922e+02,  2.30073929e-05,  1.99999968e+02,  3.99999913e+02,\n",
       "         5.99999859e+02,  7.99999804e+02,  9.99999749e+02]),\n",
       " <BarContainer object of 10 artists>)"
      ]
     },
     "execution_count": 9,
     "metadata": {},
     "output_type": "execute_result"
    },
    {
     "data": {
      "image/png": "[encoded data removed]",
      "text/plain": [
       "<Figure size 640x480 with 1 Axes>"
      ]
     },
     "metadata": {},
     "output_type": "display_data"
    }
   ],
   "source": [
    "plt.hist(coordinates['z'])"
   ]
  },
  {
   "cell_type": "code",
   "execution_count": 6,
   "id": "c6b793c9",
   "metadata": {},
   "outputs": [
    {
     "name": "stderr",
     "output_type": "stream",
     "text": [
      "WARNING: import of MainInclude.eval into Main conflicts with an existing identifier; ignored.\n",
      "WARNING: could not import MainInclude.include into Main\n",
      "WARNING: import of MainInclude.eval into Main conflicts with an existing identifier; ignored.\n",
      "WARNING: could not import MainInclude.include into Main\n"
     ]
    },
    {
     "ename": "SystemError",
     "evalue": "<PyCall.jlwrap (in a Julia function called from Python)\nJULIA: SystemError: opening file \"/home/lado/GalPop/notebooks/populate_julia.jl\": No such file or directory\nStacktrace:\n [1] include(fname::String)\n   @ Main ./sysimg.jl:38\n [2] invokelatest(::Any, ::Any, ::Vararg{Any}; kwargs::@Kwargs{})\n   @ Base ./essentials.jl:1055\n [3] invokelatest(::Any, ::Any, ::Vararg{Any})\n   @ Base ./essentials.jl:1052\n [4] _pyjlwrap_call(f::Function, args_::Ptr{PyCall.PyObject_struct}, kw_::Ptr{PyCall.PyObject_struct})\n   @ PyCall ~/.julia/packages/PyCall/1gn3u/src/callback.jl:28\n [5] pyjlwrap_call(self_::Ptr{PyCall.PyObject_struct}, args_::Ptr{PyCall.PyObject_struct}, kw_::Ptr{PyCall.PyObject_struct})\n   @ PyCall ~/.julia/packages/PyCall/1gn3u/src/callback.jl:44>",
     "output_type": "error",
     "traceback": [
      "\u001b[0;31m---------------------------------------------------------------------------\u001b[0m",
      "\u001b[0;31mSystemError\u001b[0m                               Traceback (most recent call last)",
      "Cell \u001b[0;32mIn[6], line 1\u001b[0m\n\u001b[0;32m----> 1\u001b[0m \u001b[38;5;28;01mimport\u001b[39;00m\u001b[38;5;250m \u001b[39m\u001b[38;5;21;01mpopulate_galaxies_wrapper\u001b[39;00m\u001b[38;5;250m \u001b[39m\u001b[38;5;28;01mas\u001b[39;00m\u001b[38;5;250m \u001b[39m\u001b[38;5;21;01mpgw\u001b[39;00m\n",
      "File \u001b[0;32m~/GalPop/src/populate_galaxies_wrapper.py:8\u001b[0m\n\u001b[1;32m      5\u001b[0m jl \u001b[38;5;241m=\u001b[39m Julia(compiled_modules\u001b[38;5;241m=\u001b[39m\u001b[38;5;28;01mFalse\u001b[39;00m)\n\u001b[1;32m      6\u001b[0m \u001b[38;5;28;01mfrom\u001b[39;00m\u001b[38;5;250m \u001b[39m\u001b[38;5;21;01mjulia\u001b[39;00m\u001b[38;5;250m \u001b[39m\u001b[38;5;28;01mimport\u001b[39;00m Main\n\u001b[0;32m----> 8\u001b[0m \u001b[43mMain\u001b[49m\u001b[38;5;241;43m.\u001b[39;49m\u001b[43minclude\u001b[49m\u001b[43m(\u001b[49m\u001b[38;5;124;43m'\u001b[39;49m\u001b[38;5;124;43mpopulate_julia.jl\u001b[39;49m\u001b[38;5;124;43m'\u001b[39;49m\u001b[43m)\u001b[49m\n\u001b[1;32m     10\u001b[0m \u001b[38;5;66;03m# Python wrapper for the Julia function\u001b[39;00m\n\u001b[1;32m     11\u001b[0m \u001b[38;5;28;01mdef\u001b[39;00m\u001b[38;5;250m \u001b[39m\u001b[38;5;21mpopulate_galaxies\u001b[39m(h, s, HODparams, rsd\u001b[38;5;241m=\u001b[39m\u001b[38;5;28;01mTrue\u001b[39;00m, Lmin\u001b[38;5;241m=\u001b[39m\u001b[38;5;241m-\u001b[39m\u001b[38;5;241m1000\u001b[39m, Lmax\u001b[38;5;241m=\u001b[39m\u001b[38;5;241m1000\u001b[39m):\n",
      "\u001b[0;31mSystemError\u001b[0m: <PyCall.jlwrap (in a Julia function called from Python)\nJULIA: SystemError: opening file \"/home/lado/GalPop/notebooks/populate_julia.jl\": No such file or directory\nStacktrace:\n [1] include(fname::String)\n   @ Main ./sysimg.jl:38\n [2] invokelatest(::Any, ::Any, ::Vararg{Any}; kwargs::@Kwargs{})\n   @ Base ./essentials.jl:1055\n [3] invokelatest(::Any, ::Any, ::Vararg{Any})\n   @ Base ./essentials.jl:1052\n [4] _pyjlwrap_call(f::Function, args_::Ptr{PyCall.PyObject_struct}, kw_::Ptr{PyCall.PyObject_struct})\n   @ PyCall ~/.julia/packages/PyCall/1gn3u/src/callback.jl:28\n [5] pyjlwrap_call(self_::Ptr{PyCall.PyObject_struct}, args_::Ptr{PyCall.PyObject_struct}, kw_::Ptr{PyCall.PyObject_struct})\n   @ PyCall ~/.julia/packages/PyCall/1gn3u/src/callback.jl:44>"
     ]
    }
   ],
   "source": [
    "import populate_galaxies_wrapper as pgw"
   ]
  },
  {
   "cell_type": "code",
   "execution_count": 11,
   "id": "953a5014",
   "metadata": {},
   "outputs": [
    {
     "ename": "FileNotFoundError",
     "evalue": "[Errno 2] No such file or directory: 'populate_galaxies.jl'",
     "output_type": "error",
     "traceback": [
      "\u001b[0;31m---------------------------------------------------------------------------\u001b[0m",
      "\u001b[0;31mAttributeError\u001b[0m                            Traceback (most recent call last)",
      "File \u001b[0;32m~/GalPop/src/populate_galaxies_wrapper.py:46\u001b[0m, in \u001b[0;36mpopulate_galaxies\u001b[0;34m(h, s, HODparams, rsd, Lmin, Lmax)\u001b[0m\n\u001b[1;32m     45\u001b[0m \u001b[38;5;28;01mtry\u001b[39;00m:\n\u001b[0;32m---> 46\u001b[0m     \u001b[43mMain\u001b[49m\u001b[38;5;241;43m.\u001b[39;49m\u001b[43mpopulate_galaxies_julia\u001b[49m\n\u001b[1;32m     47\u001b[0m \u001b[38;5;28;01mexcept\u001b[39;00m:\n",
      "File \u001b[0;32m~/GalPop/.venv/lib/python3.10/site-packages/julia/core.py:178\u001b[0m, in \u001b[0;36mJuliaModule.__getattr__\u001b[0;34m(self, name)\u001b[0m\n\u001b[1;32m    177\u001b[0m \u001b[38;5;28;01mtry\u001b[39;00m:\n\u001b[0;32m--> 178\u001b[0m     \u001b[38;5;28;01mreturn\u001b[39;00m \u001b[38;5;28;43mself\u001b[39;49m\u001b[38;5;241;43m.\u001b[39;49m\u001b[43m__try_getattr\u001b[49m\u001b[43m(\u001b[49m\u001b[43mname\u001b[49m\u001b[43m)\u001b[49m\n\u001b[1;32m    179\u001b[0m \u001b[38;5;28;01mexcept\u001b[39;00m \u001b[38;5;167;01mAttributeError\u001b[39;00m:\n",
      "File \u001b[0;32m~/GalPop/.venv/lib/python3.10/site-packages/julia/core.py:201\u001b[0m, in \u001b[0;36mJuliaModule.__try_getattr\u001b[0;34m(self, name)\u001b[0m\n\u001b[1;32m    199\u001b[0m     \u001b[38;5;28;01mreturn\u001b[39;00m \u001b[38;5;28mself\u001b[39m\u001b[38;5;241m.\u001b[39m_julia\u001b[38;5;241m.\u001b[39meval(jl_fullname)\n\u001b[0;32m--> 201\u001b[0m \u001b[38;5;28;01mraise\u001b[39;00m \u001b[38;5;167;01mAttributeError\u001b[39;00m(name)\n",
      "\u001b[0;31mAttributeError\u001b[0m: populate_galaxies_julia",
      "\nDuring handling of the above exception, another exception occurred:\n",
      "\u001b[0;31mFileNotFoundError\u001b[0m                         Traceback (most recent call last)",
      "Cell \u001b[0;32mIn[11], line 1\u001b[0m\n\u001b[0;32m----> 1\u001b[0m coordinates \u001b[38;5;241m=\u001b[39m \u001b[43mpgw\u001b[49m\u001b[38;5;241;43m.\u001b[39;49m\u001b[43mpopulate_galaxies\u001b[49m\u001b[43m(\u001b[49m\u001b[43mh\u001b[49m\u001b[43m,\u001b[49m\u001b[43m \u001b[49m\u001b[43ms\u001b[49m\u001b[43m,\u001b[49m\u001b[43m \u001b[49m\u001b[43m[\u001b[49m\u001b[38;5;241;43m13\u001b[39;49m\u001b[43m,\u001b[49m\u001b[43m \u001b[49m\u001b[38;5;241;43m1\u001b[39;49m\u001b[43m,\u001b[49m\u001b[43m \u001b[49m\u001b[38;5;241;43m14\u001b[39;49m\u001b[43m,\u001b[49m\u001b[43m \u001b[49m\u001b[38;5;241;43m1\u001b[39;49m\u001b[43m,\u001b[49m\u001b[43m \u001b[49m\u001b[38;5;241;43m1\u001b[39;49m\u001b[43m,\u001b[49m\u001b[43m \u001b[49m\u001b[38;5;241;43m0\u001b[39;49m\u001b[43m,\u001b[49m\u001b[43m \u001b[49m\u001b[38;5;241;43m1\u001b[39;49m\u001b[43m]\u001b[49m\u001b[43m)\u001b[49m\n",
      "File \u001b[0;32m~/GalPop/src/populate_galaxies_wrapper.py:48\u001b[0m, in \u001b[0;36mpopulate_galaxies\u001b[0;34m(h, s, HODparams, rsd, Lmin, Lmax)\u001b[0m\n\u001b[1;32m     46\u001b[0m     Main\u001b[38;5;241m.\u001b[39mpopulate_galaxies_julia\n\u001b[1;32m     47\u001b[0m \u001b[38;5;28;01mexcept\u001b[39;00m:\n\u001b[0;32m---> 48\u001b[0m     \u001b[43minit_julia\u001b[49m\u001b[43m(\u001b[49m\u001b[43m)\u001b[49m\n\u001b[1;32m     50\u001b[0m \u001b[38;5;66;03m# Unpack halo data and ensure float64 type\u001b[39;00m\n\u001b[1;32m     51\u001b[0m h_mass \u001b[38;5;241m=\u001b[39m np\u001b[38;5;241m.\u001b[39masarray(h[\u001b[38;5;124m'\u001b[39m\u001b[38;5;124mmass\u001b[39m\u001b[38;5;124m'\u001b[39m], dtype\u001b[38;5;241m=\u001b[39mnp\u001b[38;5;241m.\u001b[39mfloat64)\n",
      "File \u001b[0;32m~/GalPop/src/populate_galaxies_wrapper.py:15\u001b[0m, in \u001b[0;36minit_julia\u001b[0;34m()\u001b[0m\n\u001b[1;32m     13\u001b[0m Main\u001b[38;5;241m.\u001b[39meval(\u001b[38;5;124m'\u001b[39m\u001b[38;5;124musing Random, SpecialFunctions, Statistics\u001b[39m\u001b[38;5;124m'\u001b[39m)\n\u001b[1;32m     14\u001b[0m \u001b[38;5;66;03m# Define the Julia function\u001b[39;00m\n\u001b[0;32m---> 15\u001b[0m \u001b[38;5;28;01mwith\u001b[39;00m \u001b[38;5;28;43mopen\u001b[39;49m\u001b[43m(\u001b[49m\u001b[38;5;124;43m'\u001b[39;49m\u001b[38;5;124;43mpopulate_galaxies.jl\u001b[39;49m\u001b[38;5;124;43m'\u001b[39;49m\u001b[43m,\u001b[49m\u001b[43m \u001b[49m\u001b[38;5;124;43m'\u001b[39;49m\u001b[38;5;124;43mr\u001b[39;49m\u001b[38;5;124;43m'\u001b[39;49m\u001b[43m)\u001b[49m \u001b[38;5;28;01mas\u001b[39;00m f:\n\u001b[1;32m     16\u001b[0m     Main\u001b[38;5;241m.\u001b[39meval(f\u001b[38;5;241m.\u001b[39mread())\n\u001b[1;32m     17\u001b[0m \u001b[38;5;28;01mreturn\u001b[39;00m \u001b[38;5;28;01mTrue\u001b[39;00m\n",
      "\u001b[0;31mFileNotFoundError\u001b[0m: [Errno 2] No such file or directory: 'populate_galaxies.jl'"
     ]
    }
   ],
   "source": [
    "coordinates = pgw.populate_galaxies(h, s, [13, 1, 14, 1, 1, 0, 1])"
   ]
  },
  {
   "cell_type": "code",
   "execution_count": 12,
   "id": "32c4233f",
   "metadata": {},
   "outputs": [],
   "source": [
    "# Example usage\n",
    "h_mass, h_x, h_y, h_z, h_velocity, h_sigma, \\\n",
    "s_mass, s_host_velocity, s_n_particles, s_x, s_y, s_z, s_velocity = file_io.extract_arrays(h, s)\n",
    "\n",
    "# Now you can use these arrays individually"
   ]
  },
  {
   "cell_type": "code",
   "execution_count": null,
   "id": "d978437a",
   "metadata": {},
   "outputs": [],
   "source": []
  }
 ],
 "metadata": {
  "kernelspec": {
   "display_name": ".venv",
   "language": "python",
   "name": "python3"
  },
  "language_info": {
   "codemirror_mode": {
    "name": "ipython",
    "version": 3
   },
   "file_extension": ".py",
   "mimetype": "text/x-python",
   "name": "python",
   "nbconvert_exporter": "python",
   "pygments_lexer": "ipython3",
   "version": "3.10.12"
  }
 },
 "nbformat": 4,
 "nbformat_minor": 5
}
