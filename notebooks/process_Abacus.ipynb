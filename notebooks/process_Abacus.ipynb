{
 "cells": [
  {
   "cell_type": "code",
   "execution_count": 1,
   "id": "1e536be6-ecd0-46df-aaff-fe4b6f7917f8",
   "metadata": {
    "scrolled": true
   },
   "outputs": [],
   "source": [
    "import process_Abacus as pa"
   ]
  },
  {
   "cell_type": "code",
   "execution_count": 2,
   "id": "91c3cbcf-576b-4713-8790-44ac374c80aa",
   "metadata": {},
   "outputs": [
    {
     "name": "stdout",
     "output_type": "stream",
     "text": [
      "Processing slab: /global/cfs/cdirs/desi/cosmosim/Abacus/AbacusSummit_base_c000_ph000/halos/z0.800/halo_info/halo_info_016.asdf\n",
      "Processing slab: /global/cfs/cdirs/desi/cosmosim/Abacus/AbacusSummit_base_c000_ph000/halos/z0.800/halo_info/halo_info_027.asdf\n",
      "Processing slab: /global/cfs/cdirs/desi/cosmosim/Abacus/AbacusSummit_base_c000_ph000/halos/z0.800/halo_info/halo_info_023.asdf\n",
      "Processing slab: /global/cfs/cdirs/desi/cosmosim/Abacus/AbacusSummit_base_c000_ph000/halos/z0.800/halo_info/halo_info_019.asdf\n",
      "Processing slab: /global/cfs/cdirs/desi/cosmosim/Abacus/AbacusSummit_base_c000_ph000/halos/z0.800/halo_info/halo_info_031.asdf\n",
      "Processing slab: /global/cfs/cdirs/desi/cosmosim/Abacus/AbacusSummit_base_c000_ph000/halos/z0.800/halo_info/halo_info_021.asdf\n",
      "Processing slab: /global/cfs/cdirs/desi/cosmosim/Abacus/AbacusSummit_base_c000_ph000/halos/z0.800/halo_info/halo_info_004.asdf\n",
      "Processing slab: /global/cfs/cdirs/desi/cosmosim/Abacus/AbacusSummit_base_c000_ph000/halos/z0.800/halo_info/halo_info_024.asdf\n",
      "Processing slab: /global/cfs/cdirs/desi/cosmosim/Abacus/AbacusSummit_base_c000_ph000/halos/z0.800/halo_info/halo_info_011.asdf\n",
      "Processing slab: /global/cfs/cdirs/desi/cosmosim/Abacus/AbacusSummit_base_c000_ph000/halos/z0.800/halo_info/halo_info_015.asdf\n",
      "Processing slab: /global/cfs/cdirs/desi/cosmosim/Abacus/AbacusSummit_base_c000_ph000/halos/z0.800/halo_info/halo_info_009.asdf\n",
      "Processing slab: /global/cfs/cdirs/desi/cosmosim/Abacus/AbacusSummit_base_c000_ph000/halos/z0.800/halo_info/halo_info_029.asdf\n",
      "Processing slab: /global/cfs/cdirs/desi/cosmosim/Abacus/AbacusSummit_base_c000_ph000/halos/z0.800/halo_info/halo_info_000.asdf\n",
      "Processing slab: /global/cfs/cdirs/desi/cosmosim/Abacus/AbacusSummit_base_c000_ph000/halos/z0.800/halo_info/halo_info_001.asdf\n",
      "Processing slab: /global/cfs/cdirs/desi/cosmosim/Abacus/AbacusSummit_base_c000_ph000/halos/z0.800/halo_info/halo_info_033.asdf\n",
      "Processing slab: /global/cfs/cdirs/desi/cosmosim/Abacus/AbacusSummit_base_c000_ph000/halos/z0.800/halo_info/halo_info_014.asdf\n",
      "Processing slab: /global/cfs/cdirs/desi/cosmosim/Abacus/AbacusSummit_base_c000_ph000/halos/z0.800/halo_info/halo_info_010.asdf\n",
      "Processing slab: /global/cfs/cdirs/desi/cosmosim/Abacus/AbacusSummit_base_c000_ph000/halos/z0.800/halo_info/halo_info_022.asdf\n",
      "Processing slab: /global/cfs/cdirs/desi/cosmosim/Abacus/AbacusSummit_base_c000_ph000/halos/z0.800/halo_info/halo_info_026.asdf\n",
      "Processing slab: /global/cfs/cdirs/desi/cosmosim/Abacus/AbacusSummit_base_c000_ph000/halos/z0.800/halo_info/halo_info_013.asdf\n",
      "Processing slab: /global/cfs/cdirs/desi/cosmosim/Abacus/AbacusSummit_base_c000_ph000/halos/z0.800/halo_info/halo_info_020.asdf\n",
      "Processing slab: /global/cfs/cdirs/desi/cosmosim/Abacus/AbacusSummit_base_c000_ph000/halos/z0.800/halo_info/halo_info_006.asdf\n",
      "Processing slab: /global/cfs/cdirs/desi/cosmosim/Abacus/AbacusSummit_base_c000_ph000/halos/z0.800/halo_info/halo_info_005.asdf\n",
      "Processing slab: /global/cfs/cdirs/desi/cosmosim/Abacus/AbacusSummit_base_c000_ph000/halos/z0.800/halo_info/halo_info_017.asdf\n",
      "Processing slab: /global/cfs/cdirs/desi/cosmosim/Abacus/AbacusSummit_base_c000_ph000/halos/z0.800/halo_info/halo_info_025.asdf\n",
      "Processing slab: /global/cfs/cdirs/desi/cosmosim/Abacus/AbacusSummit_base_c000_ph000/halos/z0.800/halo_info/halo_info_012.asdf\n",
      "Processing slab: /global/cfs/cdirs/desi/cosmosim/Abacus/AbacusSummit_base_c000_ph000/halos/z0.800/halo_info/halo_info_028.asdf\n",
      "Processing slab: /global/cfs/cdirs/desi/cosmosim/Abacus/AbacusSummit_base_c000_ph000/halos/z0.800/halo_info/halo_info_018.asdf\n",
      "Processing slab: /global/cfs/cdirs/desi/cosmosim/Abacus/AbacusSummit_base_c000_ph000/halos/z0.800/halo_info/halo_info_008.asdf\n",
      "Processing slab: /global/cfs/cdirs/desi/cosmosim/Abacus/AbacusSummit_base_c000_ph000/halos/z0.800/halo_info/halo_info_007.asdf\n",
      "Processing slab: /global/cfs/cdirs/desi/cosmosim/Abacus/AbacusSummit_base_c000_ph000/halos/z0.800/halo_info/halo_info_032.asdf\n",
      "Processing slab: /global/cfs/cdirs/desi/cosmosim/Abacus/AbacusSummit_base_c000_ph000/halos/z0.800/halo_info/halo_info_002.asdf\n",
      "Processing slab: /global/cfs/cdirs/desi/cosmosim/Abacus/AbacusSummit_base_c000_ph000/halos/z0.800/halo_info/halo_info_003.asdf\n",
      "Processing slab: /global/cfs/cdirs/desi/cosmosim/Abacus/AbacusSummit_base_c000_ph000/halos/z0.800/halo_info/halo_info_030.asdf\n"
     ]
    }
   ],
   "source": [
    "ad = pa.process_Abacus_directory(\"/global/cfs/cdirs/desi/cosmosim/Abacus/AbacusSummit_base_c000_ph000/halos/z0.800/halo_info/\", 13, 14, 10)"
   ]
  },
  {
   "cell_type": "code",
   "execution_count": 3,
   "id": "418fc694-57a6-4c97-a624-7519b2c5272f",
   "metadata": {},
   "outputs": [
    {
     "data": {
      "text/plain": [
       "{'halo': {'mass': array([1.47825524e+13, 2.89450348e+13, 1.22664181e+13, ...,\n",
       "         1.00392280e+13, 4.64693931e+13, 1.26671436e+13]),\n",
       "  'x': array([-58.26978302, -58.08532715, -58.38805389, ..., 822.38537598,\n",
       "         822.25500488, 822.77825928]),\n",
       "  'y': array([ 999.4050293 , -998.28826904, -996.64233398, ...,  987.14245605,\n",
       "          987.96472168,  994.82879639]),\n",
       "  'z': array([-101.97296143,  -19.71212196,  667.38995361, ...,  736.04107666,\n",
       "         -462.18145752,  372.21862793]),\n",
       "  'sigma': array([0.26323229, 0.29813218, 0.26110259, ..., 0.24889073, 0.3127234 ,\n",
       "         0.26863474]),\n",
       "  'velocity': array([ 4.15089798, -3.44642043, -1.96041226, ...,  1.27165949,\n",
       "          3.15661693,  2.53979993])},\n",
       " 'subsample': {'mass': array([1.03070814e+14, 1.03070814e+14, 1.03070814e+14, ...,\n",
       "         2.69793708e+14, 2.69793708e+14, 2.69793708e+14]),\n",
       "  'host_velocity': array([-4.5337038 , -4.5337038 , -4.5337038 , ..., -4.28806973,\n",
       "         -4.28806973, -4.28806973]),\n",
       "  'n_particles': array([1443., 1443., 1443., ..., 3868., 3868., 3868.]),\n",
       "  'x': array([-57.25600052, -57.2179985 , -57.15200043, ..., 822.17199707,\n",
       "         822.1920166 , 822.14398193]),\n",
       "  'y': array([-956.61602783, -956.74200439, -956.55200195, ...,  954.11798096,\n",
       "          954.10601807,  953.96600342]),\n",
       "  'z': array([ 22.89800072,  22.8239994 ,  22.86400032, ..., 437.42599487,\n",
       "         437.4119873 , 437.23800659]),\n",
       "  'velocity': array([-20.81622887,   4.14996624,  -5.34515619, ...,  -5.24555683,\n",
       "         -11.35430717, -11.2879076 ])}}"
      ]
     },
     "execution_count": 3,
     "metadata": {},
     "output_type": "execute_result"
    }
   ],
   "source": [
    "ad"
   ]
  },
  {
   "cell_type": "code",
   "execution_count": 4,
   "id": "d4496df1-200d-40f4-8a09-baae38140800",
   "metadata": {},
   "outputs": [
    {
     "name": "stdout",
     "output_type": "stream",
     "text": [
      "Results saved to test.fits\n"
     ]
    }
   ],
   "source": [
    "pa.save_results_fits(ad, \"test.fits\")"
   ]
  },
  {
   "cell_type": "code",
   "execution_count": 5,
   "id": "a05bdf3e-efad-4c4a-bccd-bb7debd7a570",
   "metadata": {},
   "outputs": [
    {
     "name": "stdout",
     "output_type": "stream",
     "text": [
      "Number of halos: 1982735\n",
      "Number of subsamples: 352660\n"
     ]
    }
   ],
   "source": [
    "h, s = pa.read_results_fits(\"test.fits\")"
   ]
  }
 ],
 "metadata": {
  "kernelspec": {
   "display_name": "cosmodesi-main",
   "language": "python",
   "name": "cosmodesi-main"
  },
  "language_info": {
   "codemirror_mode": {
    "name": "ipython",
    "version": 3
   },
   "file_extension": ".py",
   "mimetype": "text/x-python",
   "name": "python",
   "nbconvert_exporter": "python",
   "pygments_lexer": "ipython3",
   "version": "3.10.13"
  }
 },
 "nbformat": 4,
 "nbformat_minor": 5
}
