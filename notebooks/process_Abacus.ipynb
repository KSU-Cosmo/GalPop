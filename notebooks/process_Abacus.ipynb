{
 "cells": [
  {
   "cell_type": "code",
   "execution_count": 3,
   "id": "1e536be6-ecd0-46df-aaff-fe4b6f7917f8",
   "metadata": {
    "scrolled": true
   },
   "outputs": [],
   "source": [
    "import sys\n",
    "import os"
   ]
  },
  {
   "cell_type": "code",
   "execution_count": 4,
   "id": "c1063c4e-42a5-48a3-801e-694742a1649d",
   "metadata": {},
   "outputs": [],
   "source": [
    "src_path = os.path.abspath(os.path.join(os.getcwd(), \"..\", \"src\"))\n",
    "sys.path.append(src_path)"
   ]
  },
  {
   "cell_type": "code",
   "execution_count": 5,
   "id": "c9685a99-40ac-412f-8257-4d851bcb91b6",
   "metadata": {},
   "outputs": [],
   "source": [
    "import process_Abacus as pa"
   ]
  },
  {
   "cell_type": "code",
   "execution_count": 7,
   "id": "91c3cbcf-576b-4713-8790-44ac374c80aa",
   "metadata": {},
   "outputs": [
    {
     "name": "stdout",
     "output_type": "stream",
     "text": [
      "Processing slab: /global/cfs/cdirs/desi/cosmosim/Abacus/AbacusSummit_base_c000_ph000/halos/z0.800/halo_info/halo_info_016.asdf\n",
      "Processing slab: /global/cfs/cdirs/desi/cosmosim/Abacus/AbacusSummit_base_c000_ph000/halos/z0.800/halo_info/halo_info_027.asdf\n",
      "Processing slab: /global/cfs/cdirs/desi/cosmosim/Abacus/AbacusSummit_base_c000_ph000/halos/z0.800/halo_info/halo_info_023.asdf\n",
      "Processing slab: /global/cfs/cdirs/desi/cosmosim/Abacus/AbacusSummit_base_c000_ph000/halos/z0.800/halo_info/halo_info_019.asdf\n",
      "Processing slab: /global/cfs/cdirs/desi/cosmosim/Abacus/AbacusSummit_base_c000_ph000/halos/z0.800/halo_info/halo_info_031.asdf\n",
      "Processing slab: /global/cfs/cdirs/desi/cosmosim/Abacus/AbacusSummit_base_c000_ph000/halos/z0.800/halo_info/halo_info_021.asdf\n",
      "Processing slab: /global/cfs/cdirs/desi/cosmosim/Abacus/AbacusSummit_base_c000_ph000/halos/z0.800/halo_info/halo_info_004.asdf\n",
      "Processing slab: /global/cfs/cdirs/desi/cosmosim/Abacus/AbacusSummit_base_c000_ph000/halos/z0.800/halo_info/halo_info_024.asdf\n",
      "Processing slab: /global/cfs/cdirs/desi/cosmosim/Abacus/AbacusSummit_base_c000_ph000/halos/z0.800/halo_info/halo_info_011.asdf\n",
      "Processing slab: /global/cfs/cdirs/desi/cosmosim/Abacus/AbacusSummit_base_c000_ph000/halos/z0.800/halo_info/halo_info_015.asdf\n",
      "Processing slab: /global/cfs/cdirs/desi/cosmosim/Abacus/AbacusSummit_base_c000_ph000/halos/z0.800/halo_info/halo_info_009.asdf\n",
      "Processing slab: /global/cfs/cdirs/desi/cosmosim/Abacus/AbacusSummit_base_c000_ph000/halos/z0.800/halo_info/halo_info_029.asdf\n",
      "Processing slab: /global/cfs/cdirs/desi/cosmosim/Abacus/AbacusSummit_base_c000_ph000/halos/z0.800/halo_info/halo_info_000.asdf\n",
      "Processing slab: /global/cfs/cdirs/desi/cosmosim/Abacus/AbacusSummit_base_c000_ph000/halos/z0.800/halo_info/halo_info_001.asdf\n",
      "Processing slab: /global/cfs/cdirs/desi/cosmosim/Abacus/AbacusSummit_base_c000_ph000/halos/z0.800/halo_info/halo_info_033.asdf\n",
      "Processing slab: /global/cfs/cdirs/desi/cosmosim/Abacus/AbacusSummit_base_c000_ph000/halos/z0.800/halo_info/halo_info_014.asdf\n",
      "Processing slab: /global/cfs/cdirs/desi/cosmosim/Abacus/AbacusSummit_base_c000_ph000/halos/z0.800/halo_info/halo_info_010.asdf\n",
      "Processing slab: /global/cfs/cdirs/desi/cosmosim/Abacus/AbacusSummit_base_c000_ph000/halos/z0.800/halo_info/halo_info_022.asdf\n",
      "Processing slab: /global/cfs/cdirs/desi/cosmosim/Abacus/AbacusSummit_base_c000_ph000/halos/z0.800/halo_info/halo_info_026.asdf\n",
      "Processing slab: /global/cfs/cdirs/desi/cosmosim/Abacus/AbacusSummit_base_c000_ph000/halos/z0.800/halo_info/halo_info_013.asdf\n",
      "Processing slab: /global/cfs/cdirs/desi/cosmosim/Abacus/AbacusSummit_base_c000_ph000/halos/z0.800/halo_info/halo_info_020.asdf\n",
      "Processing slab: /global/cfs/cdirs/desi/cosmosim/Abacus/AbacusSummit_base_c000_ph000/halos/z0.800/halo_info/halo_info_006.asdf\n",
      "Processing slab: /global/cfs/cdirs/desi/cosmosim/Abacus/AbacusSummit_base_c000_ph000/halos/z0.800/halo_info/halo_info_005.asdf\n",
      "Processing slab: /global/cfs/cdirs/desi/cosmosim/Abacus/AbacusSummit_base_c000_ph000/halos/z0.800/halo_info/halo_info_017.asdf\n",
      "Processing slab: /global/cfs/cdirs/desi/cosmosim/Abacus/AbacusSummit_base_c000_ph000/halos/z0.800/halo_info/halo_info_025.asdf\n",
      "Processing slab: /global/cfs/cdirs/desi/cosmosim/Abacus/AbacusSummit_base_c000_ph000/halos/z0.800/halo_info/halo_info_012.asdf\n",
      "Processing slab: /global/cfs/cdirs/desi/cosmosim/Abacus/AbacusSummit_base_c000_ph000/halos/z0.800/halo_info/halo_info_028.asdf\n",
      "Processing slab: /global/cfs/cdirs/desi/cosmosim/Abacus/AbacusSummit_base_c000_ph000/halos/z0.800/halo_info/halo_info_018.asdf\n",
      "Processing slab: /global/cfs/cdirs/desi/cosmosim/Abacus/AbacusSummit_base_c000_ph000/halos/z0.800/halo_info/halo_info_008.asdf\n",
      "Processing slab: /global/cfs/cdirs/desi/cosmosim/Abacus/AbacusSummit_base_c000_ph000/halos/z0.800/halo_info/halo_info_007.asdf\n",
      "Processing slab: /global/cfs/cdirs/desi/cosmosim/Abacus/AbacusSummit_base_c000_ph000/halos/z0.800/halo_info/halo_info_032.asdf\n",
      "Processing slab: /global/cfs/cdirs/desi/cosmosim/Abacus/AbacusSummit_base_c000_ph000/halos/z0.800/halo_info/halo_info_002.asdf\n",
      "Processing slab: /global/cfs/cdirs/desi/cosmosim/Abacus/AbacusSummit_base_c000_ph000/halos/z0.800/halo_info/halo_info_003.asdf\n",
      "Processing slab: /global/cfs/cdirs/desi/cosmosim/Abacus/AbacusSummit_base_c000_ph000/halos/z0.800/halo_info/halo_info_030.asdf\n"
     ]
    }
   ],
   "source": [
    "ad = pa.process_Abacus_directory(\"/global/cfs/cdirs/desi/cosmosim/Abacus/AbacusSummit_base_c000_ph000/halos/z0.800/halo_info/\", 12, 13, 30)"
   ]
  },
  {
   "cell_type": "code",
   "execution_count": 9,
   "id": "418fc694-57a6-4c97-a624-7519b2c5272f",
   "metadata": {},
   "outputs": [
    {
     "data": {
      "text/plain": [
       "{'halo': {'mass': array([1.31817595e+12, 1.04399535e+12, 1.28864881e+12, ...,\n",
       "         1.17475841e+12, 1.09461331e+12, 1.43628452e+12]),\n",
       "  'x': array([-58.21592331, -58.12148285, -58.72123718, ..., 821.87896729,\n",
       "         821.87530518, 822.29467773]),\n",
       "  'y': array([-998.94232178, -998.72869873, -999.2444458 , ...,  998.75695801,\n",
       "          999.20544434,  999.60430908]),\n",
       "  'z': array([-886.05474854, -647.44787598, -532.50054932, ...,  960.99786377,\n",
       "         -467.2980957 ,  976.546875  ]),\n",
       "  'sigma': array([0.17542355, 0.16609493, 0.16971627, ..., 0.17347696, 0.16403036,\n",
       "         0.17484216]),\n",
       "  'velocity': array([-3.95792246,  5.95961475, -0.54115343, ..., -3.02913141,\n",
       "          4.62681675, -3.35725856])},\n",
       " 'subsample': {'mass': array([1.47825524e+13, 1.47825524e+13, 1.47825524e+13, ...,\n",
       "         1.26671436e+13, 1.26671436e+13, 1.26671436e+13]),\n",
       "  'host_velocity': array([4.15089798, 4.15089798, 4.15089798, ..., 2.53979993, 2.53979993,\n",
       "         2.53979993]),\n",
       "  'n_particles': array([205., 205., 205., ..., 171., 171., 171.]),\n",
       "  'x': array([-58.29600143, -58.31800079, -58.27000046, ..., 822.96002197,\n",
       "         822.92999268, 822.92199707]),\n",
       "  'y': array([999.70800781, 999.565979  , 999.70001221, ..., 994.64001465,\n",
       "         994.62799072, 994.61999512]),\n",
       "  'z': array([-102.36399841, -102.31199646, -102.41400146, ...,  372.08200073,\n",
       "          372.04000854,  371.96398926]),\n",
       "  'velocity': array([ 6.24154902,  9.59472179,  5.0131588 , ...,  2.29078126,\n",
       "         -0.29879755,  3.25357342])}}"
      ]
     },
     "execution_count": 9,
     "metadata": {},
     "output_type": "execute_result"
    }
   ],
   "source": [
    "ad"
   ]
  },
  {
   "cell_type": "code",
   "execution_count": 11,
   "id": "d4496df1-200d-40f4-8a09-baae38140800",
   "metadata": {},
   "outputs": [
    {
     "name": "stdout",
     "output_type": "stream",
     "text": [
      "Results saved to /pscratch/sd/l/lado/GalPop/test.fits\n"
     ]
    }
   ],
   "source": [
    "pa.save_results_fits(ad, \"/pscratch/sd/l/lado/GalPop/test.fits\")"
   ]
  },
  {
   "cell_type": "code",
   "execution_count": 12,
   "id": "a05bdf3e-efad-4c4a-bccd-bb7debd7a570",
   "metadata": {},
   "outputs": [
    {
     "name": "stdout",
     "output_type": "stream",
     "text": [
      "Number of halos: 29129524\n",
      "Number of subsamples: 59482050\n"
     ]
    }
   ],
   "source": [
    "h, s = pa.read_results_fits(\"/pscratch/sd/l/lado/GalPop/test.fits\")"
   ]
  }
 ],
 "metadata": {
  "kernelspec": {
   "display_name": "cosmodesi-main",
   "language": "python",
   "name": "cosmodesi-main"
  },
  "language_info": {
   "codemirror_mode": {
    "name": "ipython",
    "version": 3
   },
   "file_extension": ".py",
   "mimetype": "text/x-python",
   "name": "python",
   "nbconvert_exporter": "python",
   "pygments_lexer": "ipython3",
   "version": "3.10.13"
  }
 },
 "nbformat": 4,
 "nbformat_minor": 5
}
